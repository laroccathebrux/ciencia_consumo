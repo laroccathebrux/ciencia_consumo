{
  "nbformat": 4,
  "nbformat_minor": 0,
  "metadata": {
    "colab": {
      "name": "Questions.ipynb",
      "provenance": [],
      "collapsed_sections": [],
      "include_colab_link": true
    },
    "kernelspec": {
      "display_name": "Python 3",
      "language": "python",
      "name": "python3"
    },
    "language_info": {
      "codemirror_mode": {
        "name": "ipython",
        "version": 3
      },
      "file_extension": ".py",
      "mimetype": "text/x-python",
      "name": "python",
      "nbconvert_exporter": "python",
      "pygments_lexer": "ipython3",
      "version": "3.8.5"
    }
  },
  "cells": [
    {
      "cell_type": "markdown",
      "metadata": {
        "id": "view-in-github",
        "colab_type": "text"
      },
      "source": [
        "<a href=\"https://colab.research.google.com/github/laroccathebrux/ciencia_consumo/blob/main/Questions.ipynb\" target=\"_parent\"><img src=\"https://colab.research.google.com/assets/colab-badge.svg\" alt=\"Open In Colab\"/></a>"
      ]
    },
    {
      "cell_type": "code",
      "metadata": {
        "colab": {
          "base_uri": "https://localhost:8080/"
        },
        "id": "lQ6fCKp1viQT",
        "outputId": "f4d4c871-638d-40c8-c392-954637ac64e3"
      },
      "source": [
        "!pip install pyspark"
      ],
      "execution_count": 4,
      "outputs": [
        {
          "output_type": "stream",
          "text": [
            "Collecting pyspark\n",
            "\u001b[?25l  Downloading https://files.pythonhosted.org/packages/89/db/e18cfd78e408de957821ec5ca56de1250645b05f8523d169803d8df35a64/pyspark-3.1.2.tar.gz (212.4MB)\n",
            "\u001b[K     |████████████████████████████████| 212.4MB 61kB/s \n",
            "\u001b[?25hCollecting py4j==0.10.9\n",
            "\u001b[?25l  Downloading https://files.pythonhosted.org/packages/9e/b6/6a4fb90cd235dc8e265a6a2067f2a2c99f0d91787f06aca4bcf7c23f3f80/py4j-0.10.9-py2.py3-none-any.whl (198kB)\n",
            "\u001b[K     |████████████████████████████████| 204kB 19.2MB/s \n",
            "\u001b[?25hBuilding wheels for collected packages: pyspark\n",
            "  Building wheel for pyspark (setup.py) ... \u001b[?25l\u001b[?25hdone\n",
            "  Created wheel for pyspark: filename=pyspark-3.1.2-py2.py3-none-any.whl size=212880768 sha256=2029fca895581fbe272a5d782dcd7523945bea6ae527e6da42cceaacf5013800\n",
            "  Stored in directory: /root/.cache/pip/wheels/40/1b/2c/30f43be2627857ab80062bef1527c0128f7b4070b6b2d02139\n",
            "Successfully built pyspark\n",
            "Installing collected packages: py4j, pyspark\n",
            "Successfully installed py4j-0.10.9 pyspark-3.1.2\n"
          ],
          "name": "stdout"
        }
      ]
    },
    {
      "cell_type": "code",
      "metadata": {
        "id": "UwasYzj7XuA0"
      },
      "source": [
        "from pyspark.sql import SparkSession\n",
        "from pyspark.sql import functions as f"
      ],
      "execution_count": 118,
      "outputs": []
    },
    {
      "cell_type": "code",
      "metadata": {
        "id": "SN8GQDy2L0xA"
      },
      "source": [
        "spark = SparkSession \\\n",
        "    .builder \\\n",
        "    .appName(\"Desafio Engenheiro de Dados\") \\\n",
        "    .getOrCreate()"
      ],
      "execution_count": 93,
      "outputs": []
    },
    {
      "cell_type": "code",
      "metadata": {
        "id": "0LZriEX-L6g3"
      },
      "source": [
        "conn = psycopg2.connect(\"host=batyr.db.elephantsql.com dbname=hzlsgeqq user=hzlsgeqq password=1WQIBn7f0j5d9J-p88FDlXXCgNzg9CnG\")\n",
        "cur = conn.cursor()"
      ],
      "execution_count": 131,
      "outputs": []
    },
    {
      "cell_type": "code",
      "metadata": {
        "colab": {
          "base_uri": "https://localhost:8080/"
        },
        "id": "DSz4HeMRMHnv",
        "outputId": "e53a3c71-5a41-46f9-eef9-7d77148081a7"
      },
      "source": [
        "cur.execute(\n",
        "    \"SELECT \\\n",
        "      p.nome AS pais, \\\n",
        "      count(r.id) AS qtd_respondentes \\\n",
        "    FROM \\\n",
        "      respondente AS r \\\n",
        "    INNER JOIN \\\n",
        "      pais AS p ON p.id = r.pais_id \\\n",
        "    GROUP BY pais \\\n",
        "    ORDER BY qtd_respondentes DESC\"\n",
        "    )\n",
        "rst = cur.fetchall()\n",
        "df_rst_r1 = spark.createDataFrame(rst, [\"pais\", \"qtd_respondentes\"])\n",
        "df_rst_r1.show()"
      ],
      "execution_count": 132,
      "outputs": [
        {
          "output_type": "stream",
          "text": [
            "+--------------------+----------------+\n",
            "|                pais|qtd_respondentes|\n",
            "+--------------------+----------------+\n",
            "|       United States|            2350|\n",
            "|               India|            1124|\n",
            "|      United Kingdom|             749|\n",
            "|             Germany|             655|\n",
            "|              Canada|             360|\n",
            "|              France|             278|\n",
            "|  Russian Federation|             270|\n",
            "|              Brazil|             255|\n",
            "|              Poland|             233|\n",
            "|               Spain|             203|\n",
            "|           Australia|             194|\n",
            "|         Netherlands|             193|\n",
            "|               Italy|             166|\n",
            "|              Sweden|             129|\n",
            "|             Ukraine|             109|\n",
            "|         Switzerland|             107|\n",
            "|              Israel|             101|\n",
            "|              Turkey|              98|\n",
            "|               China|              92|\n",
            "|Iran, Islamic Rep...|              89|\n",
            "+--------------------+----------------+\n",
            "only showing top 20 rows\n",
            "\n"
          ],
          "name": "stdout"
        }
      ]
    },
    {
      "cell_type": "code",
      "metadata": {
        "colab": {
          "base_uri": "https://localhost:8080/"
        },
        "id": "tLXYXHsPNcOn",
        "outputId": "50034144-c138-418b-ee07-19598c245136"
      },
      "source": [
        "cur.execute(\n",
        "    \"SELECT \\\n",
        "      p.nome AS pais, \\\n",
        "      count(r.id) AS qtd_respondentes \\\n",
        "    FROM \\\n",
        "      respondente AS r \\\n",
        "    INNER JOIN \\\n",
        "      pais AS p ON p.id = r.pais_id \\\n",
        "    INNER JOIN \\\n",
        "      sistema_operacional AS so ON so.id = r.sistema_operacional_id \\\n",
        "    WHERE \\\n",
        "      so.nome = 'Windows' \\\n",
        "    AND p.nome = 'United States'\\\n",
        "    GROUP BY pais \\\n",
        "    ORDER BY qtd_respondentes DESC\"\n",
        "    )\n",
        "rst = cur.fetchall()\n",
        "df_rst_r2 = spark.createDataFrame(rst, [\"pais\", \"qtd_respondentes\"])\n",
        "df_rst_r2.show()"
      ],
      "execution_count": 133,
      "outputs": [
        {
          "output_type": "stream",
          "text": [
            "+-------------+----------------+\n",
            "|         pais|qtd_respondentes|\n",
            "+-------------+----------------+\n",
            "|United States|             961|\n",
            "+-------------+----------------+\n",
            "\n"
          ],
          "name": "stdout"
        }
      ]
    },
    {
      "cell_type": "code",
      "metadata": {
        "colab": {
          "base_uri": "https://localhost:8080/"
        },
        "id": "eTO3SZMHOQYm",
        "outputId": "a464e57a-9f34-4893-ee60-65507ea3c0b7"
      },
      "source": [
        "sql = (\n",
        "    \"SELECT \\\n",
        "      p.nome AS pais, \\\n",
        "      AVG(r.salario) AS media_salario \\\n",
        "    FROM \\\n",
        "      respondente AS r \\\n",
        "    INNER JOIN \\\n",
        "      pais AS p ON p.id = r.pais_id \\\n",
        "    INNER JOIN \\\n",
        "      sistema_operacional AS so ON so.id = r.sistema_operacional_id \\\n",
        "    WHERE \\\n",
        "      so.nome = 'Linux-based' \\\n",
        "    AND p.nome = 'Israel' \\\n",
        "    GROUP BY \\\n",
        "      pais\"\n",
        ")\n",
        "cur.execute(sql)\n",
        "rst = cur.fetchall()\n",
        "df_rst_r3 = spark.createDataFrame(rst, [\"pais\", \"media_salario\"])\n",
        "df_rst_r3 = df_rst_r3.withColumn(\"media_salario\", f.round(f.col(\"media_salario\"),2))\n",
        "df_rst_r3.show()"
      ],
      "execution_count": 134,
      "outputs": [
        {
          "output_type": "stream",
          "text": [
            "+------+-------------+\n",
            "|  pais|media_salario|\n",
            "+------+-------------+\n",
            "|Israel|    340024.04|\n",
            "+------+-------------+\n",
            "\n"
          ],
          "name": "stdout"
        }
      ]
    },
    {
      "cell_type": "code",
      "metadata": {
        "colab": {
          "base_uri": "https://localhost:8080/"
        },
        "id": "EXHUywdiRXIh",
        "outputId": "566e1230-427c-4479-9919-ea63b658d12b"
      },
      "source": [
        "sql = (\n",
        "    \"SELECT \\\n",
        "      e.tamanho, \\\n",
        "      AVG(r.salario) AS media_salario, \\\n",
        "      STDDEV(r.salario) AS desvio_padrao_salario \\\n",
        "    FROM \\\n",
        "      respondente AS r \\\n",
        "    INNER JOIN \\\n",
        "      empresa AS e ON e.id = r.empresa_id \\\n",
        "    INNER JOIN \\\n",
        "      resp_usa_ferramenta as ruf ON ruf.respondente_id = r.id \\\n",
        "    INNER JOIN \\\n",
        "      ferramenta_comunic as fc ON fc.id = ruf.ferramenta_comunic_id \\\n",
        "    WHERE \\\n",
        "      fc.nome = 'Slack' \\\n",
        "    GROUP BY \\\n",
        "      e.tamanho \\\n",
        "    ORDER BY \\\n",
        "      e.tamanho DESC \\\n",
        "    \"\n",
        ")\n",
        "#print(sql)\n",
        "cur.execute(sql)\n",
        "\n",
        "rst = cur.fetchall()\n",
        "df_rst_r3 = spark.createDataFrame(rst, [\"tamanho\", \"media_salario\", \"desvio_padrao_salario\"])\n",
        "df_rst_r3 = df_rst_r3.withColumn(\"media_salario\", f.round(f.col(\"media_salario\"),2))\n",
        "df_rst_r3 = df_rst_r3.withColumn(\"desvio_padrao_salario\", f.round(f.col(\"desvio_padrao_salario\"),2))\n",
        "df_rst_r3.show()"
      ],
      "execution_count": 135,
      "outputs": [
        {
          "output_type": "stream",
          "text": [
            "+--------------------+-------------+---------------------+\n",
            "|             tamanho|media_salario|desvio_padrao_salario|\n",
            "+--------------------+-------------+---------------------+\n",
            "|Fewer than 10 emp...|    431384.51|            959331.28|\n",
            "|500 to 999 employees|    498070.86|             836141.8|\n",
            "|5,000 to 9,999 em...|     531336.4|           1081373.95|\n",
            "|  20 to 99 employees|    530620.32|           1115513.31|\n",
            "|  10 to 19 employees|    431637.84|            969431.15|\n",
            "|100 to 499 employees|     544173.3|           1021569.27|\n",
            "|1,000 to 4,999 em...|    543627.23|            910850.59|\n",
            "|10,000 or more em...|     675286.1|           1358631.73|\n",
            "+--------------------+-------------+---------------------+\n",
            "\n"
          ],
          "name": "stdout"
        }
      ]
    }
  ]
}