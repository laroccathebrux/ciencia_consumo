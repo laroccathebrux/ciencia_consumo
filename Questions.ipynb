{
  "nbformat": 4,
  "nbformat_minor": 0,
  "metadata": {
    "colab": {
      "name": "Questions.ipynb",
      "provenance": [],
      "collapsed_sections": [],
      "include_colab_link": true
    },
    "kernelspec": {
      "display_name": "Python 3",
      "language": "python",
      "name": "python3"
    },
    "language_info": {
      "codemirror_mode": {
        "name": "ipython",
        "version": 3
      },
      "file_extension": ".py",
      "mimetype": "text/x-python",
      "name": "python",
      "nbconvert_exporter": "python",
      "pygments_lexer": "ipython3",
      "version": "3.8.5"
    }
  },
  "cells": [
    {
      "cell_type": "markdown",
      "metadata": {
        "id": "view-in-github",
        "colab_type": "text"
      },
      "source": [
        "<a href=\"https://colab.research.google.com/github/laroccathebrux/ciencia_consumo/blob/main/Questions.ipynb\" target=\"_parent\"><img src=\"https://colab.research.google.com/assets/colab-badge.svg\" alt=\"Open In Colab\"/></a>"
      ]
    },
    {
      "cell_type": "code",
      "metadata": {
        "colab": {
          "base_uri": "https://localhost:8080/"
        },
        "id": "lQ6fCKp1viQT",
        "outputId": "fbded892-ec30-4f55-d096-e9915dc1a171"
      },
      "source": [
        "!pip install pyspark"
      ],
      "execution_count": 2,
      "outputs": [
        {
          "output_type": "stream",
          "text": [
            "Collecting pyspark\n",
            "\u001b[?25l  Downloading https://files.pythonhosted.org/packages/89/db/e18cfd78e408de957821ec5ca56de1250645b05f8523d169803d8df35a64/pyspark-3.1.2.tar.gz (212.4MB)\n",
            "\u001b[K     |████████████████████████████████| 212.4MB 70kB/s \n",
            "\u001b[?25hCollecting py4j==0.10.9\n",
            "\u001b[?25l  Downloading https://files.pythonhosted.org/packages/9e/b6/6a4fb90cd235dc8e265a6a2067f2a2c99f0d91787f06aca4bcf7c23f3f80/py4j-0.10.9-py2.py3-none-any.whl (198kB)\n",
            "\u001b[K     |████████████████████████████████| 204kB 19.8MB/s \n",
            "\u001b[?25hBuilding wheels for collected packages: pyspark\n",
            "  Building wheel for pyspark (setup.py) ... \u001b[?25l\u001b[?25hdone\n",
            "  Created wheel for pyspark: filename=pyspark-3.1.2-py2.py3-none-any.whl size=212880768 sha256=27e022d0633f228fa323747d934c12d58ff487873ebf1f5af9165c4a45f627ec\n",
            "  Stored in directory: /root/.cache/pip/wheels/40/1b/2c/30f43be2627857ab80062bef1527c0128f7b4070b6b2d02139\n",
            "Successfully built pyspark\n",
            "Installing collected packages: py4j, pyspark\n",
            "Successfully installed py4j-0.10.9 pyspark-3.1.2\n"
          ],
          "name": "stdout"
        }
      ]
    },
    {
      "cell_type": "code",
      "metadata": {
        "colab": {
          "base_uri": "https://localhost:8080/"
        },
        "id": "UwasYzj7XuA0",
        "outputId": "2eb75665-37da-4bdf-f7a3-dac72cac1bab"
      },
      "source": [
        "from pyspark.sql import SparkSession\n",
        "from pyspark.sql import functions as f\n",
        "import psycopg2"
      ],
      "execution_count": 6,
      "outputs": [
        {
          "output_type": "stream",
          "text": [
            "/usr/local/lib/python3.7/dist-packages/psycopg2/__init__.py:144: UserWarning: The psycopg2 wheel package will be renamed from release 2.8; in order to keep installing from binary please use \"pip install psycopg2-binary\" instead. For details see: <http://initd.org/psycopg/docs/install.html#binary-install-from-pypi>.\n",
            "  \"\"\")\n"
          ],
          "name": "stderr"
        }
      ]
    },
    {
      "cell_type": "code",
      "metadata": {
        "id": "SN8GQDy2L0xA"
      },
      "source": [
        "spark = SparkSession \\\n",
        "    .builder \\\n",
        "    .appName(\"Desafio Engenheiro de Dados\") \\\n",
        "    .getOrCreate()"
      ],
      "execution_count": 4,
      "outputs": []
    },
    {
      "cell_type": "code",
      "metadata": {
        "id": "0LZriEX-L6g3"
      },
      "source": [
        "conn = psycopg2.connect(\"host=batyr.db.elephantsql.com dbname=hzlsgeqq user=hzlsgeqq password=\")\n",
        "cur = conn.cursor()"
      ],
      "execution_count": 7,
      "outputs": []
    },
    {
      "cell_type": "code",
      "metadata": {
        "colab": {
          "base_uri": "https://localhost:8080/"
        },
        "id": "DSz4HeMRMHnv",
        "outputId": "b842bd9d-f6fd-4c1e-e18b-1b36480e493d"
      },
      "source": [
        "cur.execute(\n",
        "    \"SELECT \\\n",
        "      p.nome AS pais, \\\n",
        "      count(r.id) AS qtd_respondentes \\\n",
        "    FROM \\\n",
        "      respondente AS r \\\n",
        "    INNER JOIN \\\n",
        "      pais AS p ON p.id = r.pais_id \\\n",
        "    GROUP BY pais \\\n",
        "    ORDER BY qtd_respondentes DESC\"\n",
        "    )\n",
        "rst = cur.fetchall()\n",
        "df_rst_r1 = spark.createDataFrame(rst, [\"pais\", \"qtd_respondentes\"])\n",
        "df_rst_r1.show()"
      ],
      "execution_count": 8,
      "outputs": [
        {
          "output_type": "stream",
          "text": [
            "+--------------------+----------------+\n",
            "|                pais|qtd_respondentes|\n",
            "+--------------------+----------------+\n",
            "|       United States|            2350|\n",
            "|               India|            1124|\n",
            "|      United Kingdom|             749|\n",
            "|             Germany|             655|\n",
            "|              Canada|             360|\n",
            "|              France|             278|\n",
            "|  Russian Federation|             270|\n",
            "|              Brazil|             255|\n",
            "|              Poland|             233|\n",
            "|               Spain|             203|\n",
            "|           Australia|             194|\n",
            "|         Netherlands|             193|\n",
            "|               Italy|             166|\n",
            "|              Sweden|             129|\n",
            "|             Ukraine|             109|\n",
            "|         Switzerland|             107|\n",
            "|              Israel|             101|\n",
            "|              Turkey|              98|\n",
            "|               China|              92|\n",
            "|Iran, Islamic Rep...|              89|\n",
            "+--------------------+----------------+\n",
            "only showing top 20 rows\n",
            "\n"
          ],
          "name": "stdout"
        }
      ]
    },
    {
      "cell_type": "code",
      "metadata": {
        "colab": {
          "base_uri": "https://localhost:8080/"
        },
        "id": "tLXYXHsPNcOn",
        "outputId": "fc25d353-b3f4-4f74-830c-8d1ccdeff37b"
      },
      "source": [
        "cur.execute(\n",
        "    \"SELECT \\\n",
        "      p.nome AS pais, \\\n",
        "      count(r.id) AS qtd_respondentes \\\n",
        "    FROM \\\n",
        "      respondente AS r \\\n",
        "    INNER JOIN \\\n",
        "      pais AS p ON p.id = r.pais_id \\\n",
        "    INNER JOIN \\\n",
        "      sistema_operacional AS so ON so.id = r.sistema_operacional_id \\\n",
        "    WHERE \\\n",
        "      so.nome = 'Windows' \\\n",
        "    AND p.nome = 'United States'\\\n",
        "    GROUP BY pais \\\n",
        "    ORDER BY qtd_respondentes DESC\"\n",
        "    )\n",
        "rst = cur.fetchall()\n",
        "df_rst_r2 = spark.createDataFrame(rst, [\"pais\", \"qtd_respondentes\"])\n",
        "df_rst_r2.show()"
      ],
      "execution_count": 9,
      "outputs": [
        {
          "output_type": "stream",
          "text": [
            "+-------------+----------------+\n",
            "|         pais|qtd_respondentes|\n",
            "+-------------+----------------+\n",
            "|United States|             961|\n",
            "+-------------+----------------+\n",
            "\n"
          ],
          "name": "stdout"
        }
      ]
    },
    {
      "cell_type": "code",
      "metadata": {
        "colab": {
          "base_uri": "https://localhost:8080/"
        },
        "id": "eTO3SZMHOQYm",
        "outputId": "a60bc440-739e-4bb1-d882-084535883f15"
      },
      "source": [
        "sql = (\n",
        "    \"SELECT \\\n",
        "      p.nome AS pais, \\\n",
        "      AVG(r.salario) AS media_salario \\\n",
        "    FROM \\\n",
        "      respondente AS r \\\n",
        "    INNER JOIN \\\n",
        "      pais AS p ON p.id = r.pais_id \\\n",
        "    INNER JOIN \\\n",
        "      sistema_operacional AS so ON so.id = r.sistema_operacional_id \\\n",
        "    WHERE \\\n",
        "      so.nome = 'Linux-based' \\\n",
        "    AND p.nome = 'Israel' \\\n",
        "    GROUP BY \\\n",
        "      pais\"\n",
        ")\n",
        "cur.execute(sql)\n",
        "rst = cur.fetchall()\n",
        "df_rst_r3 = spark.createDataFrame(rst, [\"pais\", \"media_salario\"])\n",
        "df_rst_r3 = df_rst_r3.withColumn(\"media_salario\", f.round(f.col(\"media_salario\"),2))\n",
        "df_rst_r3.show()"
      ],
      "execution_count": 10,
      "outputs": [
        {
          "output_type": "stream",
          "text": [
            "+------+-------------+\n",
            "|  pais|media_salario|\n",
            "+------+-------------+\n",
            "|Israel|     28335.34|\n",
            "+------+-------------+\n",
            "\n"
          ],
          "name": "stdout"
        }
      ]
    },
    {
      "cell_type": "code",
      "metadata": {
        "colab": {
          "base_uri": "https://localhost:8080/"
        },
        "id": "EXHUywdiRXIh",
        "outputId": "c0882eed-6140-488e-b7bc-4850a8e95fca"
      },
      "source": [
        "sql = (\n",
        "    \"SELECT \\\n",
        "      e.tamanho, \\\n",
        "      AVG(r.salario) AS media_salario, \\\n",
        "      STDDEV(r.salario) AS desvio_padrao_salario \\\n",
        "    FROM \\\n",
        "      respondente AS r \\\n",
        "    INNER JOIN \\\n",
        "      empresa AS e ON e.id = r.empresa_id \\\n",
        "    INNER JOIN \\\n",
        "      resp_usa_ferramenta as ruf ON ruf.respondente_id = r.id \\\n",
        "    INNER JOIN \\\n",
        "      ferramenta_comunic as fc ON fc.id = ruf.ferramenta_comunic_id \\\n",
        "    WHERE \\\n",
        "      fc.nome = 'Slack' \\\n",
        "    GROUP BY \\\n",
        "      e.tamanho \\\n",
        "    ORDER BY \\\n",
        "      e.tamanho DESC \\\n",
        "    \"\n",
        ")\n",
        "#print(sql)\n",
        "cur.execute(sql)\n",
        "\n",
        "rst = cur.fetchall()\n",
        "df_rst_r3 = spark.createDataFrame(rst, [\"tamanho\", \"media_salario\", \"desvio_padrao_salario\"])\n",
        "df_rst_r3 = df_rst_r3.withColumn(\"media_salario\", f.round(f.col(\"media_salario\"),2))\n",
        "df_rst_r3 = df_rst_r3.withColumn(\"desvio_padrao_salario\", f.round(f.col(\"desvio_padrao_salario\"),2))\n",
        "df_rst_r3.show()"
      ],
      "execution_count": 11,
      "outputs": [
        {
          "output_type": "stream",
          "text": [
            "+--------------------+-------------+---------------------+\n",
            "|             tamanho|media_salario|desvio_padrao_salario|\n",
            "+--------------------+-------------+---------------------+\n",
            "|Fewer than 10 emp...|     35948.71|             79944.27|\n",
            "|500 to 999 employees|     41505.91|             69678.48|\n",
            "|5,000 to 9,999 em...|     44278.03|              90114.5|\n",
            "|  20 to 99 employees|     44218.36|             92959.44|\n",
            "|  10 to 19 employees|     35969.82|             80785.93|\n",
            "|100 to 499 employees|     45347.78|             85130.77|\n",
            "|1,000 to 4,999 em...|     45302.27|             75904.22|\n",
            "|10,000 or more em...|     56273.84|            113219.31|\n",
            "+--------------------+-------------+---------------------+\n",
            "\n"
          ],
          "name": "stdout"
        }
      ]
    }
  ]
}
